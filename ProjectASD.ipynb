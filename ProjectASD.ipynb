{
 "cells": [
  {
   "cell_type": "code",
   "execution_count": 44,
   "id": "3b45f905-ade8-4de8-a4b9-aa9befbae3ae",
   "metadata": {},
   "outputs": [],
   "source": [
    "cities = {\n",
    "    0: 'Bishkek',\n",
    "    1: 'Toktogul',\n",
    "    2: 'Jalal-Abad',\n",
    "    3: 'Osh',\n",
    "    4: 'Batken',\n",
    "    5: 'Chicago',\n",
    "    6: 'Naryn',\n",
    "    7: 'Kara-Kol',\n",
    "    8: 'Cholpon-Ata',\n",
    "    9: 'Talas',\n",
    "    10: 'Tashkent',\n",
    "    11: 'Mahachkala',\n",
    "    12: 'Shanghai'\n",
    "}\n",
    "\n",
    "graph = [\n",
    "    [0, 1, 0, 0, 0, 0, 0, 0, 1, 1, 0, 0, 0],\n",
    "    [1, 0, 1, 0, 0, 0, 0, 0, 0, 0, 0, 0, 0],\n",
    "    [0, 1, 0, 1, 0, 0, 1, 0, 0, 0, 0, 0, 0],\n",
    "    [0, 0, 1, 0, 1, 1, 0, 0, 0, 0, 0, 0, 0],\n",
    "    [0, 0, 0, 1, 0, 0, 0, 0, 0, 0, 1, 1, 0],\n",
    "    [0, 0, 0, 1, 0, 0, 1, 0, 0, 0, 0, 0, 1],\n",
    "    [0, 0, 1, 0, 0, 1, 0, 1, 0, 0, 0, 0, 0],\n",
    "    [0, 0, 0, 0, 0, 0, 1, 0, 1, 0, 0, 0, 0],\n",
    "    [1, 0, 0, 0, 0, 0, 0, 1, 0, 0, 0, 0, 0],\n",
    "    [1, 0, 0, 0, 0, 0, 0, 0, 0, 0, 1, 0, 0],\n",
    "    [0, 0, 0, 0, 1, 0, 0, 0, 0, 1, 0, 0, 0],\n",
    "    [0, 0, 0, 0, 1, 0, 0, 0, 0, 0, 0, 0, 0],\n",
    "    [0, 0, 0, 0, 0, 1, 0, 0, 0, 0, 0, 0, 0]\n",
    "]"
   ]
  },
  {
   "cell_type": "code",
   "execution_count": 55,
   "id": "580d1f58-5de5-4a03-96c4-af751b82e6aa",
   "metadata": {},
   "outputs": [
    {
     "name": "stdout",
     "output_type": "stream",
     "text": [
      "Welcome to PUTI Logistics!\n",
      "\n",
      "Current Routes:\n",
      "Bishkek ↔ Toktogul\n",
      "Bishkek ↔ Cholpon-Ata\n",
      "Bishkek ↔ Talas\n",
      "Toktogul ↔ Jalal-Abad\n",
      "Jalal-Abad ↔ Osh\n",
      "Jalal-Abad ↔ Naryn\n",
      "Osh ↔ Batken\n",
      "Osh ↔ Chicago\n",
      "Batken ↔ Tashkent\n",
      "Batken ↔ Mahachkala\n",
      "Chicago ↔ Naryn\n",
      "Chicago ↔ Shanghai\n",
      "Naryn ↔ Kara-Kol\n",
      "Kara-Kol ↔ Cholpon-Ata\n",
      "Talas ↔ Tashkent\n",
      "\n"
     ]
    },
    {
     "name": "stdin",
     "output_type": "stream",
     "text": [
      "Input the number of the action\n",
      "1: for new city\n",
      "2: for new route\n",
      "3: for find the shortest path\n",
      "4: for restart the cities\n",
      " 3\n",
      "Your current city:  Mahachkala\n",
      "Enter the destination city:  Kara-Kol\n"
     ]
    },
    {
     "name": "stdout",
     "output_type": "stream",
     "text": [
      "Shortest path from Mahachkala to Kara-Kol: Mahachkala → Batken → Osh → Jalal-Abad → Naryn → Kara-Kol\n",
      "Number of edges: 5\n"
     ]
    }
   ],
   "source": [
    "def trafik(cities, graph):\n",
    "   \n",
    "    print(\"\\nCurrent Routes:\")\n",
    "    for i in range(len(graph)):\n",
    "        for j in range(i + 1, len(graph)):\n",
    "            if graph[i][j] == 1:\n",
    "                print(f\"{cities[i]} ↔ {cities[j]}\")\n",
    "    print()\n",
    "\n",
    "def bfs(cities, graph, start_city, end_city):\n",
    "   \n",
    "    n = len(graph)\n",
    "    city_to_index = {name: index for index, name in cities.items()}\n",
    "   \n",
    "    if start_city not in city_to_index or end_city not in city_to_index:\n",
    "        print(\"There is no city/cities which (are) belong to input cities\")\n",
    "        return\n",
    "   \n",
    "    m = city_to_index[start_city]\n",
    "    k = city_to_index[end_city]\n",
    "   \n",
    "    queue = [m]\n",
    "    distance = [-1] * n\n",
    "    previous = [-1] * n\n",
    "    distance[m] = 0\n",
    "   \n",
    "    while queue:\n",
    "        vert = queue.pop(0)\n",
    "        if vert == k:\n",
    "            path = []\n",
    "            while vert != -1:\n",
    "                path.append(cities[vert])\n",
    "                vert = previous[vert]\n",
    "            path.reverse()\n",
    "            print(f\"Shortest path from {start_city} to {end_city}: {' → '.join(path)}\")\n",
    "            print(f\"Number of edges: {distance[k]}\")\n",
    "            return\n",
    "       \n",
    "        for i in range(n):\n",
    "            if graph[vert][i] == 1 and distance[i] == -1:\n",
    "                queue.append(i)\n",
    "                distance[i] = distance[vert] + 1\n",
    "                previous[i] = vert\n",
    "\n",
    "    print(f\"There is no path from {start_city} to {end_city}.\")\n",
    "    \n",
    "def new_city(graph):\n",
    "    city_input = input(\"Input the city's name. 0 for skip\")\n",
    "    if city_input == '0':\n",
    "        return\n",
    "    else:\n",
    "        city_routes = [0] * len(graph)\n",
    "        graph.append(city_routes)\n",
    "        for i in graph:\n",
    "            i.append(0)\n",
    "        cities[len(graph)-1] = city_input\n",
    "        print(f\"City succesfully with name {city_input} added\")\n",
    "        \n",
    "def new_route(graph):\n",
    "    route_index1 = input(\"Input the city please, 0 for skip\")\n",
    "    if route_index1 == '0':\n",
    "        return \n",
    "    route_index2 = input(\"Input the city which is connected to previous city please\")\n",
    "    n = len(graph)\n",
    "    city_to_index = {name: index for index, name in cities.items()}\n",
    "   \n",
    "    if route_index1 not in city_to_index or route_index2 not in city_to_index:\n",
    "        print(\"There is no city/cities which (are) belong to input cities\")\n",
    "        return\n",
    "   \n",
    "    m = city_to_index[route_index1]\n",
    "    k = city_to_index[route_index2]\n",
    "    graph[m][k] = 1\n",
    "    graph[k][m] = 1\n",
    "        \n",
    "print(\"Welcome to PUTI Logistics!\")\n",
    "trafik(cities, graph)\n",
    "gui = int(input(\"\"\"Input the number of the action\n",
    "1: for new city\n",
    "2: for new route\n",
    "3: for find the shortest path\n",
    "4: for restart the cities\n",
    "\"\"\"))\n",
    "if gui == 1:\n",
    "    new_city(graph)\n",
    "if gui == 2:\n",
    "    new_route(graph)\n",
    "if gui == 3:\n",
    "    start_city = input(\"Your current city: \").strip()\n",
    "    end_city = input(\"Enter the destination city: \").strip()\n",
    "    bfs(cities, graph, start_city, end_city)\n",
    "if gui == 4:\n",
    "    cities = {\n",
    "    0: 'Bishkek',\n",
    "    1: 'Toktogul',\n",
    "    2: 'Jalal-Abad',\n",
    "    3: 'Osh',\n",
    "    4: 'Batken',\n",
    "    5: 'Chicago',\n",
    "    6: 'Naryn',\n",
    "    7: 'Kara-Kol',\n",
    "    8: 'Cholpon-Ata',\n",
    "    9: 'Talas',\n",
    "    10: 'Tashkent',\n",
    "    11: 'Mahachkala',\n",
    "    12: 'Shanghai'}\n",
    "\n",
    "    graph = [\n",
    "        [0, 1, 0, 0, 0, 0, 0, 0, 1, 1, 0, 0, 0],\n",
    "        [1, 0, 1, 0, 0, 0, 0, 0, 0, 0, 0, 0, 0],\n",
    "        [0, 1, 0, 1, 0, 0, 1, 0, 0, 0, 0, 0, 0],\n",
    "        [0, 0, 1, 0, 1, 1, 0, 0, 0, 0, 0, 0, 0],\n",
    "        [0, 0, 0, 1, 0, 0, 0, 0, 0, 0, 1, 1, 0],\n",
    "        [0, 0, 0, 1, 0, 0, 1, 0, 0, 0, 0, 0, 1],\n",
    "        [0, 0, 1, 0, 0, 1, 0, 1, 0, 0, 0, 0, 0],\n",
    "        [0, 0, 0, 0, 0, 0, 1, 0, 1, 0, 0, 0, 0],\n",
    "        [1, 0, 0, 0, 0, 0, 0, 1, 0, 0, 0, 0, 0],\n",
    "        [1, 0, 0, 0, 0, 0, 0, 0, 0, 0, 1, 0, 0],\n",
    "        [0, 0, 0, 0, 1, 0, 0, 0, 0, 1, 0, 0, 0],\n",
    "        [0, 0, 0, 0, 1, 0, 0, 0, 0, 0, 0, 0, 0],\n",
    "        [0, 0, 0, 0, 0, 1, 0, 0, 0, 0, 0, 0, 0]\n",
    "    ]\n"
   ]
  },
  {
   "attachments": {
    "1b894c47-d406-4d09-8949-e2c862d1c382.png": {
     "image/png": "[encoded data removed]"
    }
   },
   "cell_type": "markdown",
   "id": "018f0b84-2fa5-456d-ad0c-2ab7183dc0d4",
   "metadata": {},
   "source": [
    "![image.png](attachment:1b894c47-d406-4d09-8949-e2c862d1c382.png)"
   ]
  },
  {
   "cell_type": "code",
   "execution_count": 22,
   "id": "2c3efcb0-f4ad-4f80-9e13-1f5093c893c3",
   "metadata": {},
   "outputs": [],
   "source": [
    "graph = [\n",
    "    [0, 1, 0, 0, 0, 0, 0, 0, 1, 1, 0, 0, 0],\n",
    "    [1, 0, 1, 0, 0, 0, 0, 0, 0, 0, 0, 0, 0],\n",
    "    [0, 1, 0, 1, 0, 0, 1, 0, 0, 0, 0, 0, 0],\n",
    "    [0, 0, 1, 0, 1, 1, 0, 0, 0, 0, 0, 0, 0],\n",
    "    [0, 0, 0, 1, 0, 0, 0, 0, 0, 0, 1, 1, 0],\n",
    "    [0, 0, 0, 1, 0, 0, 1, 0, 0, 0, 0, 0, 1],\n",
    "    [0, 0, 1, 0, 0, 1, 0, 1, 0, 0, 0, 0, 0],\n",
    "    [0, 0, 0, 0, 0, 0, 1, 0, 1, 0, 0, 0, 0],\n",
    "    [1, 0, 0, 0, 0, 0, 0, 1, 0, 0, 0, 0, 0],\n",
    "    [1, 0, 0, 0, 0, 0, 0, 0, 0, 0, 1, 0, 0],\n",
    "    [0, 0, 0, 0, 1, 0, 0, 0, 0, 1, 0, 0, 0],\n",
    "    [0, 0, 0, 0, 1, 0, 0, 0, 0, 0, 0, 0, 0],\n",
    "    [0, 0, 0, 0, 0, 1, 0, 0, 0, 0, 0, 0, 0]\n",
    "]"
   ]
  },
  {
   "cell_type": "code",
   "execution_count": 34,
   "id": "5e46ffca-d25b-46ab-90d3-74c7cd88fdc6",
   "metadata": {},
   "outputs": [
    {
     "name": "stdin",
     "output_type": "stream",
     "text": [
      "Input the city's name. 0 for skip London\n"
     ]
    },
    {
     "name": "stdout",
     "output_type": "stream",
     "text": [
      "City succesfully with name London added\n"
     ]
    }
   ],
   "source": [
    "def new_city(graph):\n",
    "    city_input = input(\"Input the city's name. 0 for skip\")\n",
    "    if city_input == '0':\n",
    "        return\n",
    "    else:\n",
    "        city_routes = [0] * len(graph)\n",
    "        graph.append(city_routes)\n",
    "        for i in graph:\n",
    "            i.append(0)\n",
    "        cities[len(graph)-1] = city_input\n",
    "        print(f\"City succesfully with name {city_input} added\")\n",
    "new_city(graph)"
   ]
  },
  {
   "cell_type": "code",
   "execution_count": 38,
   "id": "e78011bf-c700-40a5-904f-65b2aaf89587",
   "metadata": {},
   "outputs": [],
   "source": [
    "def new_route(graph):\n",
    "    route_index1 = input(\"input the city\")\n",
    "    route_index2 = input(\"input the city which is connected to previous city\")\n",
    "    n = len(graph)\n",
    "    city_to_index = {name: index for index, name in cities.items()}\n",
    "   \n",
    "    if route_index1 not in city_to_index or route_index2 not in city_to_index:\n",
    "        print(\"There is no city/cities which (are) belong to input cities\")\n",
    "        return\n",
    "   \n",
    "    m = city_to_index[route_index1]\n",
    "    k = city_to_index[route_index2]\n",
    "    graph[m][k] = 1\n",
    "    graph[k][m] = 1\n"
   ]
  },
  {
   "cell_type": "code",
   "execution_count": 42,
   "id": "e51acc09-cc6f-4dac-986d-260a639032aa",
   "metadata": {},
   "outputs": [
    {
     "name": "stdin",
     "output_type": "stream",
     "text": [
      "input the city Bishkek\n",
      "input the city which is connected to previous city London\n"
     ]
    }
   ],
   "source": [
    "new_route(graph)"
   ]
  },
  {
   "cell_type": "code",
   "execution_count": 41,
   "id": "8f840471-2bdf-4204-9573-92abac2d3f00",
   "metadata": {},
   "outputs": [
    {
     "data": {
      "text/plain": [
       "{0: 'Bishkek',\n",
       " 1: 'Toktogul',\n",
       " 2: 'Jalal-Abad',\n",
       " 3: 'Osh',\n",
       " 4: 'Batken',\n",
       " 5: 'Chicago',\n",
       " 6: 'Naryn',\n",
       " 7: 'Kara-Kol',\n",
       " 8: 'Cholpon-Ata',\n",
       " 9: 'Talas',\n",
       " 10: 'Tashkent',\n",
       " 11: 'Mahachkala',\n",
       " 12: 'Shanghai',\n",
       " 13: 'London'}"
      ]
     },
     "execution_count": 41,
     "metadata": {},
     "output_type": "execute_result"
    }
   ],
   "source": [
    "cities"
   ]
  },
  {
   "cell_type": "code",
   "execution_count": 43,
   "id": "da36b291-7e5b-4223-9b00-7443f5e37847",
   "metadata": {},
   "outputs": [
    {
     "data": {
      "text/plain": [
       "[[0, 1, 0, 0, 0, 0, 0, 0, 1, 1, 0, 0, 0, 1],\n",
       " [1, 0, 1, 0, 0, 0, 0, 0, 0, 0, 0, 0, 0, 0],\n",
       " [0, 1, 0, 1, 0, 0, 1, 0, 0, 0, 0, 0, 0, 0],\n",
       " [0, 0, 1, 0, 1, 1, 0, 0, 0, 0, 0, 0, 0, 0],\n",
       " [0, 0, 0, 1, 0, 0, 0, 0, 0, 0, 1, 1, 0, 0],\n",
       " [0, 0, 0, 1, 0, 0, 1, 0, 0, 0, 0, 0, 1, 0],\n",
       " [0, 0, 1, 0, 0, 1, 0, 1, 0, 0, 0, 0, 0, 0],\n",
       " [0, 0, 0, 0, 0, 0, 1, 0, 1, 0, 0, 0, 0, 0],\n",
       " [1, 0, 0, 0, 0, 0, 0, 1, 0, 0, 0, 0, 0, 0],\n",
       " [1, 0, 0, 0, 0, 0, 0, 0, 0, 0, 1, 0, 0, 0],\n",
       " [0, 0, 0, 0, 1, 0, 0, 0, 0, 1, 0, 0, 0, 0],\n",
       " [0, 0, 0, 0, 1, 0, 0, 0, 0, 0, 0, 0, 0, 0],\n",
       " [0, 0, 0, 0, 0, 1, 0, 0, 0, 0, 0, 0, 0, 0],\n",
       " [1, 0, 0, 0, 0, 0, 0, 0, 0, 0, 0, 0, 0, 0]]"
      ]
     },
     "execution_count": 43,
     "metadata": {},
     "output_type": "execute_result"
    }
   ],
   "source": [
    "graph"
   ]
  },
  {
   "cell_type": "code",
   "execution_count": null,
   "id": "dfa12231-3887-4e59-9252-2f8834d6d9cc",
   "metadata": {},
   "outputs": [],
   "source": []
  }
 ],
 "metadata": {
  "kernelspec": {
   "display_name": "Python 3 (ipykernel)",
   "language": "python",
   "name": "python3"
  },
  "language_info": {
   "codemirror_mode": {
    "name": "ipython",
    "version": 3
   },
   "file_extension": ".py",
   "mimetype": "text/x-python",
   "name": "python",
   "nbconvert_exporter": "python",
   "pygments_lexer": "ipython3",
   "version": "3.12.4"
  }
 },
 "nbformat": 4,
 "nbformat_minor": 5
}
